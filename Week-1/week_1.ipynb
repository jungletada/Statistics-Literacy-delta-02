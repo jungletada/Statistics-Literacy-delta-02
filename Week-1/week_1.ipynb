{
 "cells": [
  {
   "cell_type": "markdown",
   "metadata": {},
   "source": [
    "# Statistics Literacy delta 02"
   ]
  },
  {
   "cell_type": "code",
   "execution_count": 62,
   "metadata": {},
   "outputs": [],
   "source": [
    "import numpy as np\n",
    "from scipy import stats\n",
    "import pandas as pd\n",
    "from sympy import *\n",
    "\n",
    "\n",
    "def read_from_excel(file_path):\n",
    "    df = pd.read_excel(file_path)\n",
    "    columns_data = {col: df[col].values for col in df.columns}\n",
    "    A = columns_data[df.columns[0]]\n",
    "    B = columns_data[df.columns[1]]\n",
    "    A = A[~np.isnan(A)]\n",
    "    B = B[~np.isnan(B)]\n",
    "    return A, B"
   ]
  },
  {
   "cell_type": "markdown",
   "metadata": {},
   "source": [
    "## Week 1-1"
   ]
  },
  {
   "cell_type": "code",
   "execution_count": 58,
   "metadata": {},
   "outputs": [
    {
     "name": "stdout",
     "output_type": "stream",
     "text": [
      "Degrees of freedom=18\n",
      "t-statistic=nan\n",
      "Two-tailed test p-value = nan\n",
      "Rejection region: t_0 < -2.101 or t_0 > 2.101\n",
      "Confidence limit=[nan, nan]\n"
     ]
    }
   ],
   "source": [
    "# A, B = read_from_excel('practice1-1.xlsx') # practice 1-1\n",
    "A, B = read_from_excel('mini-exam1-1.xlsx') # exercise 1-1\n",
    "\n",
    "# Sample sizes\n",
    "n1 = len(A)\n",
    "n2 = len(B)\n",
    "# Means\n",
    "mean1 = np.mean(A)\n",
    "mean2 = np.mean(B)\n",
    "# Variances\n",
    "var1 = np.var(A, ddof=1)  # Use ddof=1 for sample variance\n",
    "var2 = np.var(B, ddof=1)\n",
    "# Pooled variance\n",
    "pooled_variance = ((n1 - 1) * var1 + (n2 - 1) * var2) / (n1 + n2 - 2)\n",
    "# Standard error\n",
    "standard_error = np.sqrt(pooled_variance * (1/n1 + 1/n2))\n",
    "# t-statistic\n",
    "t_statistic = (mean1 - mean2) / standard_error\n",
    "mean_diff = mean1 - mean2\n",
    "\n",
    "# Degrees of freedom\n",
    "degrees_of_freedom = n1 + n2 - 2\n",
    "# p-value\n",
    "p_value = stats.t.sf(np.abs(t_statistic), df=degrees_of_freedom) * 2  # Two-tailed test\n",
    "\n",
    "print(\"Degrees of freedom={}\\nt-statistic={:.3f}\\nTwo-tailed test p-value = {:.3f}\".format(\n",
    "    degrees_of_freedom, t_statistic, p_value))\n",
    "\n",
    "# Significance level for a two-tailed test (e.g., 0.02 significance level)\n",
    "alpha = 0.05\n",
    "# For a two-tailed test, divide the alpha by 2\n",
    "alpha_half = alpha / 2\n",
    "# Calculate the t critical value\n",
    "t_critical = stats.t.ppf(alpha_half, degrees_of_freedom)\n",
    "# Since it's two-tailed, we need both the positive and negative critical values\n",
    "negative_t_critical = t_critical\n",
    "positive_t_critical = -t_critical\n",
    "\n",
    "lower_conf = mean_diff + negative_t_critical * standard_error\n",
    "upper_conf = mean_diff + positive_t_critical * standard_error\n",
    "\n",
    "print(\"Rejection region: t_0 < {:.3f} or t_0 > {:.3f}\".format(negative_t_critical, positive_t_critical))\n",
    "print(\"Confidence limit=[{:.3f}, {:.3f}]\".format(lower_conf, upper_conf))"
   ]
  },
  {
   "cell_type": "markdown",
   "metadata": {},
   "source": [
    "## Week 1-2"
   ]
  },
  {
   "cell_type": "code",
   "execution_count": 72,
   "metadata": {},
   "outputs": [
    {
     "name": "stdout",
     "output_type": "stream",
     "text": [
      "A=[164.3 167.3 161.9 170.8 171.3 166.  168.6 162.7 165.7 168.2]\n",
      "B=[166.1 164.5 164.4 162.9 159.2 170.2 168.8 164.2]\n"
     ]
    }
   ],
   "source": [
    "# A, B = read_from_excel('practice1-2.xlsx') # exercise 1-2\n",
    "A, B = read_from_excel('mini-exam1-2.xlsx') # exam 1-2\n",
    "print(f\"A={A}\\nB={B}\")"
   ]
  },
  {
   "cell_type": "code",
   "execution_count": 78,
   "metadata": {},
   "outputs": [
    {
     "name": "stdout",
     "output_type": "stream",
     "text": [
      "Mean(A)=166.680, Mean(B)=165.038\n",
      "Unbiased variance estimators Var(A)=10.052889, Var(B)=11.711250, v_1/v_2=0.85840\n",
      "Rejection region: t_0<0.23826 or t_0>4.82322\n",
      "confidence interval for var1/var2=[0.17797, 3.60273]\n"
     ]
    }
   ],
   "source": [
    "# Sample sizes\n",
    "n1 = len(A)\n",
    "n2 = len(B)\n",
    "# Means\n",
    "mean1 = np.mean(A)\n",
    "mean2 = np.mean(B)\n",
    "# Variances. Use ddof=1 for sample variance\n",
    "var1 = np.var(A, ddof=1) \n",
    "var2 = np.var(B, ddof=1)\n",
    "varience_ratio = var1 / var2\n",
    "print(\"Mean(A)={:.3f}, Mean(B)={:.3f}\".format(mean1, mean2))\n",
    "print(\"Unbiased variance estimators Var(A)={:.6f}, Var(B)={:.6f}, v_1/v_2={:.5f}\".format(var1, var2, varience_ratio))\n",
    "\n",
    "# Significance level for a two-tailed test (e.g., 0.02 significance level)\n",
    "alpha = 0.05\n",
    "# For a two-tailed test, divide the alpha by 2\n",
    "alpha_half = alpha / 2\n",
    "# Calculate the F-distribution critical value\n",
    "f_critical_low = stats.f.ppf(alpha_half, dfn=n1-1, dfd=n2-1)\n",
    "f_critical_high = stats.f.ppf(1 - alpha_half, dfn=n1-1, dfd=n2-1)\n",
    "\n",
    "lower_conf = varience_ratio / f_critical_high\n",
    "upper_conf = varience_ratio / f_critical_low\n",
    "print(\"Rejection region: t_0<{:.5f} or t_0>{:.5f}\".format(f_critical_low, f_critical_high))\n",
    "print(\"confidence interval for var1/var2=[{:.5f}, {:.5f}]\".format(lower_conf, upper_conf))"
   ]
  },
  {
   "cell_type": "markdown",
   "metadata": {},
   "source": [
    "## Week 1-3"
   ]
  },
  {
   "cell_type": "code",
   "execution_count": 92,
   "metadata": {},
   "outputs": [
    {
     "name": "stdout",
     "output_type": "stream",
     "text": [
      "A=[252 257 256 238 258 264 251 251 267 228 268 265 263 231 288 251 222 248\n",
      " 263 261 249 247 260 251 248]\n",
      "B=[248. 265. 245. 265. 288. 257. 279. 243. 257. 271. 264. 281.]\n"
     ]
    }
   ],
   "source": [
    "A, B = read_from_excel('mini-exam1-3.xlsx') # Video 1-3\n",
    "print(f\"A={A}\\nB={B}\")"
   ]
  },
  {
   "cell_type": "code",
   "execution_count": 94,
   "metadata": {},
   "outputs": [
    {
     "name": "stdout",
     "output_type": "stream",
     "text": [
      "Mean(A)=253.480, Mean(B)=263.583\n",
      "Unbiased variance estimators Var(A)=195.09333, Var(B)=208.62879\n",
      "t-statistic=-2.013\n",
      "Degrees_of_freedom=21.13907\n",
      "Rejection region: |t_0| > 2.080\n",
      "confidence interval for \\mu1-\\mu2=[-20.541, 0.334]\n"
     ]
    }
   ],
   "source": [
    "# Sample sizes\n",
    "n1 = len(A)\n",
    "n2 = len(B)\n",
    "# Means\n",
    "mean1 = np.mean(A)\n",
    "mean2 = np.mean(B)\n",
    "mean_diff = mean1 - mean2\n",
    "# Variances\n",
    "var1 = np.var(A, ddof=1)  # Use ddof=1 for sample variance\n",
    "var2 = np.var(B, ddof=1)\n",
    "# Standard error\n",
    "standard_error = np.sqrt(var1 / n1 + var2 / n2)\n",
    "# t-statistic\n",
    "t_statistic = (mean1 - mean2) / standard_error\n",
    "print(\"Mean(A)={:.3f}, Mean(B)={:.3f}\".format(mean1, mean2))\n",
    "print(\"Unbiased variance estimators Var(A)={:.5f}, Var(B)={:.5f}\".format(var1, var2))\n",
    "print(\"t-statistic={:.3f}\".format(t_statistic))\n",
    "\n",
    "est_var = (var1/n1)**2 / (n1-1) + (var2/n2)**2 / (n2-1)\n",
    "degrees_of_freedom = (var1/n1 + var2 / n2) ** 2 / est_var\n",
    "# degrees_of_freedom = round(degrees_of_freedom, 4)\n",
    "print(\"Degrees_of_freedom={:.5f}\".format(degrees_of_freedom))\n",
    "\n",
    "# Significance level for a two-tailed test\n",
    "alpha = 0.05\n",
    "alpha_half = alpha / 2 # For a two-tailed test, divide the alpha by 2\n",
    "# Calculate the t critical value\n",
    "t_critical = stats.t.ppf(alpha_half, degrees_of_freedom)\n",
    "t_critical = -2.079614\n",
    "lower_conf = mean_diff + t_critical * standard_error\n",
    "upper_conf = mean_diff - t_critical * standard_error\n",
    "print(\"Rejection region: |t_0| > {:.3f}\".format(np.abs(t_critical)))\n",
    "print(\"confidence interval for \\mu1-\\mu2=[{:.3f}, {:.3f}]\".format(lower_conf, upper_conf))"
   ]
  }
 ],
 "metadata": {
  "kernelspec": {
   "display_name": "Python 3",
   "language": "python",
   "name": "python3"
  },
  "language_info": {
   "codemirror_mode": {
    "name": "ipython",
    "version": 3
   },
   "file_extension": ".py",
   "mimetype": "text/x-python",
   "name": "python",
   "nbconvert_exporter": "python",
   "pygments_lexer": "ipython3",
   "version": "3.1.-1"
  }
 },
 "nbformat": 4,
 "nbformat_minor": 2
}
