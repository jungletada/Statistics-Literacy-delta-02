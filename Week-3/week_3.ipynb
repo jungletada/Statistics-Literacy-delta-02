{
 "cells": [
  {
   "cell_type": "markdown",
   "metadata": {},
   "source": [
    "# Week 3\n",
    "## Week 3-1  \n",
    "Comparison of population means when there is a correspondence"
   ]
  },
  {
   "cell_type": "code",
   "execution_count": 6,
   "metadata": {},
   "outputs": [],
   "source": [
    "import numpy as np\n",
    "from scipy import stats\n",
    "import pandas as pd\n",
    "from sympy import *"
   ]
  },
  {
   "cell_type": "code",
   "execution_count": 19,
   "metadata": {},
   "outputs": [
    {
     "name": "stdout",
     "output_type": "stream",
     "text": [
      "Sample mean=-0.290, sample variance=0.016556\n",
      "Degree of freedom=9, t0=-2.821, t-stat=-7.127\n",
      "Confidence interval=[-0.422, -0.158]\n"
     ]
    }
   ],
   "source": [
    "df = pd.read_excel('3-1_Paired Test and Estimation on the Difference of Population Means.xlsx', index_col=0)\n",
    "\n",
    "A = np.array(list(df[df.columns[0]]))\n",
    "B = np.array(list(df[df.columns[1]]))\n",
    "\n",
    "D = A - B\n",
    "n = len(D)\n",
    "df = n - 1\n",
    "D_mean = np.mean(D)\n",
    "D_var = np.var(D, ddof=1)\n",
    "\n",
    "alpha = 0.01\n",
    "t0 = stats.t.ppf(alpha, df)\n",
    "t_stat = D_mean / np.sqrt(D_var / n)\n",
    "\n",
    "lower_t = stats.t.ppf(alpha / 2, df)\n",
    "upper_t = stats.t.ppf(1 - alpha / 2, df)\n",
    "\n",
    "lower_intvl = D_mean - upper_t * np.sqrt(D_var / n)\n",
    "upper_intvl = D_mean - lower_t * np.sqrt(D_var / n)\n",
    "\n",
    "print(\"Sample mean={:.3f}, sample variance={:.6f}\".format(D_mean, D_var))\n",
    "print(\"Degree of freedom={}, t0={:.3f}, t-stat={:.3f}\".format(df, t0, t_stat))\n",
    "print(\"Confidence interval=[{:.3f}, {:.3f}]\".format(lower_intvl, upper_intvl))"
   ]
  },
  {
   "cell_type": "code",
   "execution_count": 21,
   "metadata": {},
   "outputs": [
    {
     "name": "stdout",
     "output_type": "stream",
     "text": [
      "Sample mean=1.362, sample variance=1.171250\n",
      "Degree of freedom=7, t0=-1.895, t-stat=3.561\n",
      "Confidence interval=[0.458, 2.267]\n"
     ]
    }
   ],
   "source": [
    "# Exercise 3-1\n",
    "df = pd.read_excel('practice3-1.xlsx')\n",
    "A = np.array(list(df[df.columns[0]]))\n",
    "B = np.array(list(df[df.columns[1]]))\n",
    "\n",
    "D = A - B\n",
    "n = len(D)\n",
    "df = n - 1\n",
    "D_mean = np.mean(D)\n",
    "D_var = np.var(D, ddof=1)\n",
    "\n",
    "alpha = 0.05\n",
    "t0 = stats.t.ppf(alpha, df)\n",
    "t_stat = D_mean / np.sqrt(D_var / n)\n",
    "\n",
    "lower_t = stats.t.ppf(alpha / 2, df)\n",
    "upper_t = stats.t.ppf(1 - alpha / 2, df)\n",
    "\n",
    "lower_intvl = D_mean - upper_t * np.sqrt(D_var / n)\n",
    "upper_intvl = D_mean - lower_t * np.sqrt(D_var / n)\n",
    "\n",
    "print(\"Sample mean={:.3f}, sample variance={:.6f}\".format(D_mean, D_var))\n",
    "print(\"Degree of freedom={}, t0={:.3f}, t-stat={:.3f}\".format(df, t0, t_stat))\n",
    "print(\"Confidence interval=[{:.3f}, {:.3f}]\".format(lower_intvl, upper_intvl))"
   ]
  },
  {
   "cell_type": "code",
   "execution_count": 5,
   "metadata": {},
   "outputs": [
    {
     "name": "stdout",
     "output_type": "stream",
     "text": [
      "Sample mean=-17.875, sample variance=3546.982143\n",
      "Degree of freedom=7, t0=-2.365, t-stat=-0.849\n",
      "Confidence interval=[-67.666, 31.916]\n"
     ]
    }
   ],
   "source": [
    "# Mini-Exam 3-1\n",
    "df = pd.read_excel('mini-exam3-1.xlsx')\n",
    "A = np.array(list(df[df.columns[0]]))\n",
    "B = np.array(list(df[df.columns[1]]))\n",
    "\n",
    "D = A - B\n",
    "n = len(D)\n",
    "df = n - 1\n",
    "D_mean = np.mean(D)\n",
    "D_var = np.var(D, ddof=1)\n",
    "\n",
    "alpha = 0.05\n",
    "t0 = stats.t.ppf(alpha / 2, df)\n",
    "t_stat = D_mean / np.sqrt(D_var / n)\n",
    "\n",
    "lower_t = stats.t.ppf(alpha / 2, df)\n",
    "upper_t = stats.t.ppf(1 - alpha / 2, df)\n",
    "\n",
    "lower_intvl = D_mean - upper_t * np.sqrt(D_var / n)\n",
    "upper_intvl = D_mean - lower_t * np.sqrt(D_var / n)\n",
    "\n",
    "print(\"Sample mean={:.3f}, sample variance={:.6f}\".format(D_mean, D_var))\n",
    "print(\"Degree of freedom={}, t0={:.3f}, t-stat={:.3f}\".format(df, t0, t_stat))\n",
    "print(\"Confidence interval=[{:.3f}, {:.3f}]\".format(lower_intvl, upper_intvl))"
   ]
  },
  {
   "cell_type": "markdown",
   "metadata": {},
   "source": [
    "## Week 3-2\n",
    "Tests and estimation of the difference between parameters for two populations assuming binomial distributions.\n",
    "- Approximation method 1  \n",
    "When the random variables $X_1$, $X_2$ independently follow $\\mathcal{B}(n_1,p_1)$, $\\mathcal{B}(n_2,p_2)$, then $\\hat{p}^*_1 − \\hat{p}^*_2 = \\frac{X_1+0.5}{n_1+1} − \\frac{X_2+0.5}{n_2+1}$ can be approximated by  \n",
    "$$ \\mathcal{N}\\left(p_1−p_2, \\frac{p_1(1−p_1)}{n_1} + \\frac{p_2(1−p_2)}{n_2}\\right)$$  \n",
    "-  Approximation method 2  \n",
    " When the random variables X1,X2 independently follow $\\mathcal{B}(n_1,p_1)$, $\\mathcal{B}(n_2,p_2)$, then $L(\\hat{p}^*_1) − L(\\hat{p}^*_2) = \\frac{X_1+0.5}{n_1+1} − \\frac{X_2+0.5}{n_2+1}$ can be approximated by  \n",
    "$$ \\mathcal{N}\\left(L(p_1)−L(p_2), \\frac{1}{n_1p_1(1−p_1)} + \\frac{1}{n_2p_2(1−p_2)}\\right).$$  \n",
    "&emsp; Here, $L$ is a logit transformation defined by $L(x)={\\rm ln}\\frac{x}{1−x}$.   \n",
    "\n",
    "&emsp; $\\hat{p}^* = \\frac{X_1+X_2+0.5}{n_1+n_2+1}$ is substituted instead of the unknown $p$"
   ]
  },
  {
   "cell_type": "code",
   "execution_count": 16,
   "metadata": {},
   "outputs": [
    {
     "name": "stdout",
     "output_type": "stream",
     "text": [
      "p1*=0.0604, p2*=0.0504, p*=0.0552\n",
      "Approximations method 1 U0=0.978, method 2 U0=0.977\n",
      "Region=-1.960, 1.960\n",
      "Confidence interval=-0.010, 0.030\n"
     ]
    }
   ],
   "source": [
    "n1, n2 = 1000, 1000\n",
    "X1, X2 = 60, 50\n",
    "p1_hs = (X1 + 0.5) / (n1 + 1)\n",
    "p2_hs = (X2 + 0.5) / (n2 + 1) \n",
    "p_hs = (X1 + X2 + 0.5) / (n1 + n2 + 1)\n",
    "\n",
    "U0_m1 = (p1_hs - p2_hs) / np.sqrt(p_hs * (1 - p_hs) * (1/n1 + 1/n2))\n",
    "\n",
    "def ln(p):\n",
    "    return np.log(p / (1 - p))\n",
    "\n",
    "U0_m2 = (ln(p1_hs) - ln(p2_hs)) * np.sqrt(p_hs * (1 - p_hs)) / np.sqrt (1/n1 + 1/n2)\n",
    "\n",
    "print(\"p1*={:.4f}, p2*={:.4f}, p*={:.4f}\".format(p1_hs, p2_hs, p_hs))\n",
    "print(\"Approximations method 1 U0={:.3f}, method 2 U0={:.3f}\".format(U0_m1, U0_m2))\n",
    "\n",
    "alpha = 0.05\n",
    "lower_r = stats.norm.ppf(alpha/2)\n",
    "upper_r = stats.norm.ppf(1 - alpha/2)\n",
    "\n",
    "var = np.sqrt(p1_hs * (1 - p1_hs) / n1 + p2_hs * (1 - p2_hs) / n2)\n",
    "mean = p1_hs - p2_hs\n",
    "lower_intvl = mean - upper_r * var\n",
    "upper_intvl = mean - lower_r * var\n",
    "print(\"Region={:.3f}, {:.3f}\".format(lower_r, upper_r))\n",
    "print(\"Confidence interval={:.3f}, {:.3f}\".format(lower_intvl, upper_intvl))"
   ]
  },
  {
   "cell_type": "markdown",
   "metadata": {},
   "source": [
    "Estimation of the difference of the parameters of binomial distribution  \n",
    "For point estimation, or are used as estimators. "
   ]
  },
  {
   "cell_type": "code",
   "execution_count": 18,
   "metadata": {},
   "outputs": [
    {
     "name": "stdout",
     "output_type": "stream",
     "text": [
      "p1*=0.1766, p2*=0.2363, p*=0.2057\n",
      "Approximations method 1 U0=-1.477, method 2 U0=-1.481\n",
      "Region=-1.645\n",
      "Region=-1.960, 1.960\n",
      "Confidence interval=-0.139, 0.019\n"
     ]
    }
   ],
   "source": [
    "# Exercise 3-2\n",
    "n1, n2 = 200, 200\n",
    "X1, X2 = 35, 47\n",
    "p1_hs = (X1 + 0.5) / (n1 + 1)\n",
    "p2_hs = (X2 + 0.5) / (n2 + 1) \n",
    "p_hs = (X1 + X2 + 0.5) / (n1 + n2 + 1)\n",
    "\n",
    "U0_m1 = (p1_hs - p2_hs) / np.sqrt(p_hs * (1 - p_hs) * (1/n1 + 1/n2))\n",
    "\n",
    "def ln(p):\n",
    "    return np.log(p / (1 - p))\n",
    "\n",
    "U0_m2 = (ln(p1_hs) - ln(p2_hs)) * np.sqrt(p_hs * (1 - p_hs)) / np.sqrt (1/n1 + 1/n2)\n",
    "\n",
    "print(\"p1*={:.4f}, p2*={:.4f}, p*={:.4f}\".format(p1_hs, p2_hs, p_hs))\n",
    "print(\"Approximations method 1 U0={:.3f}, method 2 U0={:.3f}\".format(U0_m1, U0_m2))\n",
    "\n",
    "alpha = 0.05\n",
    "n_stat = stats.norm.ppf(alpha)\n",
    "print(\"Region={:.3f}\".format(n_stat))\n",
    "\n",
    "lower_r = stats.norm.ppf(alpha/2)\n",
    "upper_r = stats.norm.ppf(1 - alpha/2)\n",
    "\n",
    "var = np.sqrt(p1_hs * (1 - p1_hs) / n1 + p2_hs * (1 - p2_hs) / n2)\n",
    "mean = p1_hs - p2_hs\n",
    "lower_intvl = mean - upper_r * var\n",
    "upper_intvl = mean - lower_r * var\n",
    "print(\"Norm interval={:.3f}, {:.3f}\".format(lower_r, upper_r))\n",
    "print(\"Confidence interval={:.3f}, {:.3f}\".format(lower_intvl, upper_intvl))"
   ]
  },
  {
   "cell_type": "code",
   "execution_count": 19,
   "metadata": {},
   "outputs": [
    {
     "name": "stdout",
     "output_type": "stream",
     "text": [
      "p1*=0.5392, p2*=0.3627, p*=0.4505\n",
      "Approximations method 1 U0=1.773, method 2 U0=1.793\n",
      "Region=-1.960\n",
      "Norm interval=-1.960, 1.960\n",
      "Confidence interval=-0.015, 0.368\n"
     ]
    }
   ],
   "source": [
    "# Mini-Exam 3-2\n",
    "n1, n2 = 50, 50\n",
    "X1, X2 = 27, 18\n",
    "p1_hs = (X1 + 0.5) / (n1 + 1)\n",
    "p2_hs = (X2 + 0.5) / (n2 + 1) \n",
    "p_hs = (X1 + X2 + 0.5) / (n1 + n2 + 1)\n",
    "\n",
    "U0_m1 = (p1_hs - p2_hs) / np.sqrt(p_hs * (1 - p_hs) * (1/n1 + 1/n2))\n",
    "\n",
    "def ln(p):\n",
    "    return np.log(p / (1 - p))\n",
    "\n",
    "U0_m2 = (ln(p1_hs) - ln(p2_hs)) * np.sqrt(p_hs * (1 - p_hs)) / np.sqrt (1/n1 + 1/n2)\n",
    "\n",
    "print(\"p1*={:.4f}, p2*={:.4f}, p*={:.4f}\".format(p1_hs, p2_hs, p_hs))\n",
    "print(\"Approximations method 1 U0={:.3f}, method 2 U0={:.3f}\".format(U0_m1, U0_m2))\n",
    "\n",
    "alpha = 0.05\n",
    "n_stat = stats.norm.ppf(alpha / 2)\n",
    "print(\"Region={:.3f}\".format(n_stat))\n",
    "\n",
    "lower_r = stats.norm.ppf(alpha/2)\n",
    "upper_r = stats.norm.ppf(1 - alpha/2)\n",
    "\n",
    "var = np.sqrt(p1_hs * (1 - p1_hs) / n1 + p2_hs * (1 - p2_hs) / n2)\n",
    "mean = p1_hs - p2_hs\n",
    "lower_intvl = mean - upper_r * var\n",
    "upper_intvl = mean - lower_r * var\n",
    "print(\"Norm interval={:.3f}, {:.3f}\".format(lower_r, upper_r))\n",
    "print(\"Confidence interval={:.3f}, {:.3f}\".format(lower_intvl, upper_intvl))"
   ]
  }
 ],
 "metadata": {
  "kernelspec": {
   "display_name": "wsss",
   "language": "python",
   "name": "python3"
  },
  "language_info": {
   "codemirror_mode": {
    "name": "ipython",
    "version": 3
   },
   "file_extension": ".py",
   "mimetype": "text/x-python",
   "name": "python",
   "nbconvert_exporter": "python",
   "pygments_lexer": "ipython3",
   "version": "3.11.5"
  }
 },
 "nbformat": 4,
 "nbformat_minor": 2
}
