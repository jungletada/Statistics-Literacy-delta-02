{
 "cells": [
  {
   "cell_type": "markdown",
   "metadata": {},
   "source": [
    "# Week 3\n",
    "Week 3-1  \n",
    "Comparison of population means when there is a correspondence"
   ]
  },
  {
   "cell_type": "code",
   "execution_count": 1,
   "metadata": {},
   "outputs": [],
   "source": [
    "import numpy as np\n",
    "from scipy import stats\n",
    "import pandas as pd\n",
    "from sympy import *"
   ]
  },
  {
   "cell_type": "code",
   "execution_count": 19,
   "metadata": {},
   "outputs": [
    {
     "name": "stdout",
     "output_type": "stream",
     "text": [
      "Sample mean=-0.290, sample variance=0.016556\n",
      "Degree of freedom=9, t0=-2.821, t-stat=-7.127\n",
      "Confidence interval=[-0.422, -0.158]\n"
     ]
    }
   ],
   "source": [
    "df = pd.read_excel('3-1_Paired Test and Estimation on the Difference of Population Means.xlsx', index_col=0)\n",
    "\n",
    "A = np.array(list(df[df.columns[0]]))\n",
    "B = np.array(list(df[df.columns[1]]))\n",
    "\n",
    "D = A - B\n",
    "n = len(D)\n",
    "df = n - 1\n",
    "D_mean = np.mean(D)\n",
    "D_var = np.var(D, ddof=1)\n",
    "\n",
    "alpha = 0.01\n",
    "t0 = stats.t.ppf(alpha, df)\n",
    "t_stat = D_mean / np.sqrt(D_var / n)\n",
    "\n",
    "lower_t = stats.t.ppf(alpha / 2, df)\n",
    "upper_t = stats.t.ppf(1 - alpha / 2, df)\n",
    "\n",
    "lower_intvl = D_mean - upper_t * np.sqrt(D_var / n)\n",
    "upper_intvl = D_mean - lower_t * np.sqrt(D_var / n)\n",
    "\n",
    "print(\"Sample mean={:.3f}, sample variance={:.6f}\".format(D_mean, D_var))\n",
    "print(\"Degree of freedom={}, t0={:.3f}, t-stat={:.3f}\".format(df, t0, t_stat))\n",
    "print(\"Confidence interval=[{:.3f}, {:.3f}]\".format(lower_intvl, upper_intvl))"
   ]
  },
  {
   "cell_type": "code",
   "execution_count": null,
   "metadata": {},
   "outputs": [],
   "source": [
    "# Exercise 3-1\n"
   ]
  },
  {
   "cell_type": "markdown",
   "metadata": {},
   "source": [
    "Week 3-2"
   ]
  }
 ],
 "metadata": {
  "kernelspec": {
   "display_name": "wsss",
   "language": "python",
   "name": "python3"
  },
  "language_info": {
   "codemirror_mode": {
    "name": "ipython",
    "version": 3
   },
   "file_extension": ".py",
   "mimetype": "text/x-python",
   "name": "python",
   "nbconvert_exporter": "python",
   "pygments_lexer": "ipython3",
   "version": "3.11.5"
  }
 },
 "nbformat": 4,
 "nbformat_minor": 2
}
