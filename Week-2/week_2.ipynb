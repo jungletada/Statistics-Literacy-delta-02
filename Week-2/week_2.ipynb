{
 "cells": [
  {
   "cell_type": "markdown",
   "metadata": {},
   "source": [
    "# Week 2"
   ]
  },
  {
   "cell_type": "code",
   "execution_count": 34,
   "metadata": {},
   "outputs": [],
   "source": [
    "import numpy as np\n",
    "from scipy import stats\n",
    "import pandas as pd\n",
    "from sympy import *\n"
   ]
  },
  {
   "cell_type": "markdown",
   "metadata": {},
   "source": [
    "## Week 2-1\n",
    "### Approximation method 1\n",
    " When the random variable $X$ follows $\\mathcal{B}(n,p)$,  $\\hat{p}^∗ = \\frac{X+0.5}{n+1}$ follows $\\mathcal{N}(p, \\frac{p(1-p)}{n})$\n",
    " in a similar way.\n",
    "### Approximation method 2\n",
    "Let $L$ be a function $L(x)=\\rm{ln}\\frac{x}{1-x}$. The transformation of numbers by thisfunction is called the **logit transformation**.  \n",
    "When the random variable $X$ follows $\\mathcal{B}(n,p)$,  $L(\\mathcal{B}(n,p))$ follows approximately $\\mathcal{N}(L(p), \\frac{1}{np(1-p)})$"
   ]
  },
  {
   "cell_type": "code",
   "execution_count": 6,
   "metadata": {},
   "outputs": [],
   "source": [
    "def approx_1(n, p0, X):\n",
    "    p_hat = (X + 0.5) / (n + 1)\n",
    "    U0 = (p_hat - p0) / np.sqrt(p0 * (1 - p0) / n)\n",
    "    return U0\n",
    "\n",
    "\n",
    "def logit_transform(p):\n",
    "    assert 0 < p < 1\n",
    "    return np.log(p / (1-p))\n",
    "\n",
    "\n",
    "def approx_2(n, p0, X):\n",
    "    p_hat = (X + 0.5) / (n + 1)\n",
    "    Lp_hat = logit_transform(p_hat)\n",
    "    Lp_0 = logit_transform(p0)\n",
    "    U0 = (Lp_hat - Lp_0) * np.sqrt(n * p0 * (1 - p0))\n",
    "    return U0"
   ]
  },
  {
   "cell_type": "code",
   "execution_count": 29,
   "metadata": {},
   "outputs": [
    {
     "name": "stdout",
     "output_type": "stream",
     "text": [
      "Approximation method 1 = -0.932, Approximation method 2 = -1.023\n"
     ]
    }
   ],
   "source": [
    "# n, X, p0 = 20, 11, 1/3\n",
    "# alpha = 0.01\n",
    "\n",
    "n, X, p0 = 500, 20, 0.05\n",
    "alpha = 0.05\n",
    "\n",
    "U_01 = approx_1(n, p0, X)\n",
    "U_02 = approx_2(n, p0, X)\n",
    "print(\"Approximation method 1 = {:.3f}, Approximation method 2 = {:.3f}\".format(U_01, U_02))"
   ]
  },
  {
   "cell_type": "markdown",
   "metadata": {},
   "source": [
    " ### Estimation of the parameters of binomial distribution\n",
    "Estimate the parameter (population) $p$ of the binomial distribution.  \n",
    "There are two types of parameter estimation: point estimation and interval estimation.   \n",
    "For point estimation, $\\hat{p}=\\frac{X}{n}$ or $\\hat{p}^∗=\\frac{X+0.5}{n+1}$ is used as the estimator. \n",
    "$$\n",
    "\\rm{Pr}\\left\\{z(\\frac{\\alpha}{2})≤U_0≤z(1−\\frac{\\alpha}{2})\\right\\}\\approx 1−\\alpha\n",
    "$$"
   ]
  },
  {
   "cell_type": "code",
   "execution_count": 33,
   "metadata": {},
   "outputs": [
    {
     "name": "stdout",
     "output_type": "stream",
     "text": [
      "rejection region statistic=1.960\n",
      "Method 1 Interval=(0.024, 0.058)\n",
      "Method 2 Interval=(0.027, 0.062)\n"
     ]
    }
   ],
   "source": [
    "# Calculate the rejection region\n",
    "n_statistic = stats.norm.ppf(1 - alpha/2)\n",
    "print(\"rejection region statistic={:.3f}\".format(n_statistic))\n",
    "alpha_half = alpha / 2\n",
    "n_statistic_left = stats.norm.ppf(alpha_half)\n",
    "n_statistic_right = stats.norm.ppf(1 - alpha_half)\n",
    "p_hs = (X + 0.5) / (n + 1)\n",
    "\n",
    "# Method 1\n",
    "var = np.sqrt(p_hs * (1 - p_hs) / n)\n",
    "lower_interval1 = n_statistic_left * var + p_hs\n",
    "upper_interval1 = n_statistic_right * var + p_hs\n",
    "print(\"Method 1 Interval=({:.3f}, {:.3f})\".format(lower_interval1, upper_interval1))\n",
    "\n",
    "# Method 2\n",
    "Lp_hs = logit_transform(p_hs)\n",
    "var = 1 / np.sqrt(n * p_hs * (1 - p_hs))\n",
    "lower_interval2 = 1 / (1 + np.exp(-(n_statistic_left * var + Lp_hs)))\n",
    "upper_interval2 = 1 / (1 + np.exp(-(n_statistic_right * var + Lp_hs)))\n",
    "\n",
    "print(\"Method 2 Interval=({:.3f}, {:.3f})\".format(lower_interval2, upper_interval2))"
   ]
  },
  {
   "cell_type": "markdown",
   "metadata": {},
   "source": [
    "## Week 2-2"
   ]
  }
 ],
 "metadata": {
  "kernelspec": {
   "display_name": "base",
   "language": "python",
   "name": "python3"
  },
  "language_info": {
   "codemirror_mode": {
    "name": "ipython",
    "version": 3
   },
   "file_extension": ".py",
   "mimetype": "text/x-python",
   "name": "python",
   "nbconvert_exporter": "python",
   "pygments_lexer": "ipython3",
   "version": "3.11.5"
  }
 },
 "nbformat": 4,
 "nbformat_minor": 2
}
