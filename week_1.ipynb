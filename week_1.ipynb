{
 "cells": [
  {
   "cell_type": "code",
   "execution_count": 13,
   "metadata": {},
   "outputs": [
    {
     "data": {
      "text/plain": [
       "(-3.154240413411163, 18, 0.0054870646003538385)"
      ]
     },
     "execution_count": 13,
     "metadata": {},
     "output_type": "execute_result"
    }
   ],
   "source": [
    "import numpy as np\n",
    "from scipy import stats\n",
    "\n",
    "\n",
    "A = np.array([0.5, 0.4, 0.5,0.0, 0.6, 0.5, 0.5, 0.6, 0.4, 0.7])\n",
    "B = np.array([1.3, 1.3, 0.7, 0.8, 1.4, 0.1, 0.4, 1.3, 1.7, 1.0])\n",
    "# A = np.array([56,67,55,60,52,58,49,54,53,50])\n",
    "# B = np.array([68,58,52,48,40,60,43,57,61,50])\n",
    "\n",
    "# Sample sizes\n",
    "n1 = len(A)\n",
    "n2 = len(B)\n",
    "\n",
    "# Means\n",
    "mean1 = np.mean(A)\n",
    "mean2 = np.mean(B)\n",
    "\n",
    "# Variances\n",
    "var1 = np.var(A, ddof=1)  # Use ddof=1 for sample variance\n",
    "var2 = np.var(B, ddof=1)\n",
    "\n",
    "# Pooled variance\n",
    "pooled_variance = ((n1 - 1) * var1 + (n2 - 1) * var2) / (n1 + n2 - 2)\n",
    "\n",
    "# Standard error\n",
    "standard_error = np.sqrt(pooled_variance * (1/n1 + 1/n2))\n",
    "\n",
    "# t-statistic\n",
    "t_statistic = (mean1 - mean2) / standard_error\n",
    "mean_diff = mean1 - mean2\n",
    "\n",
    "# Degrees of freedom\n",
    "degrees_of_freedom = n1 + n2 - 2\n",
    "\n",
    "# p-value\n",
    "p_value = stats.t.sf(np.abs(t_statistic), df=degrees_of_freedom) * 2  # Two-tailed test\n",
    "\n",
    "(t_statistic, degrees_of_freedom, p_value)"
   ]
  },
  {
   "cell_type": "code",
   "execution_count": 18,
   "metadata": {},
   "outputs": [
    {
     "data": {
      "text/plain": [
       "(-2.8784404727135864,\n",
       " 2.8784404727135864,\n",
       " -1.0136579494865976,\n",
       " -0.046342050513402455)"
      ]
     },
     "execution_count": 18,
     "metadata": {},
     "output_type": "execute_result"
    }
   ],
   "source": [
    "# Degrees of freedom\n",
    "df = degrees_of_freedom\n",
    "\n",
    "# Significance level for a two-tailed test (e.g., 0.02 significance level)\n",
    "alpha = 0.01\n",
    "\n",
    "# For a two-tailed test, divide the alpha by 2\n",
    "alpha_half = alpha / 2\n",
    "\n",
    "# Calculate the t critical value\n",
    "t_critical = stats.t.ppf(alpha_half, df)\n",
    "\n",
    "# Since it's two-tailed, we need both the positive and negative critical values\n",
    "negative_t_critical = t_critical\n",
    "positive_t_critical = -t_critical\n",
    "\n",
    "\n",
    "negative_mean = mean_diff + negative_t_critical * standard_error\n",
    "positive_mean = mean_diff + positive_t_critical * standard_error\n",
    "\n",
    "(negative_t_critical, positive_t_critical, negative_mean, positive_mean)"
   ]
  }
 ],
 "metadata": {
  "kernelspec": {
   "display_name": "Python 3",
   "language": "python",
   "name": "python3"
  },
  "language_info": {
   "codemirror_mode": {
    "name": "ipython",
    "version": 3
   },
   "file_extension": ".py",
   "mimetype": "text/x-python",
   "name": "python",
   "nbconvert_exporter": "python",
   "pygments_lexer": "ipython3",
   "version": "3.8.8"
  }
 },
 "nbformat": 4,
 "nbformat_minor": 2
}
